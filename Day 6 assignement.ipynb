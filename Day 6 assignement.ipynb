{
 "cells": [
  {
   "cell_type": "code",
   "execution_count": 2,
   "metadata": {},
   "outputs": [
    {
     "name": "stdout",
     "output_type": "stream",
     "text": [
      "{'Vivek': 21, 'Vijay': 20, 'vinith': 19, 'Sanjay': 17}\n"
     ]
    }
   ],
   "source": [
    "list_keys = ['Vivek','Vijay','vinith','Sanjay']\n",
    "list_values = [21,20,19,17]\n",
    "result = {}\n",
    "for key in list_keys:\n",
    "    for values in list_values:\n",
    "        result[key] = values\n",
    "        list_values.remove(values)\n",
    "        break\n",
    "print(str(result))"
   ]
  },
  {
   "cell_type": "code",
   "execution_count": 7,
   "metadata": {},
   "outputs": [
    {
     "name": "stdout",
     "output_type": "stream",
     "text": [
      "{1: 1, 2: 2, 3: 3, 4: 4, 5: 5, 7: 7, 8: 8, 'a': 'a', 'b': 'b', 'c': 'c', 'd': 'd'}\n"
     ]
    }
   ],
   "source": [
    "list1=[1,2,3,4,5,7,8]\n",
    "list2=[\"a\",\"b\",\"c\",\"d\",]\n",
    "d={}\n",
    "for i in range(len(list2)):\n",
    "     list1.append(list2[i])\n",
    "for i in list1:\n",
    "    d[i]=i\n",
    "print(d)"
   ]
  },
  {
   "cell_type": "markdown",
   "metadata": {},
   "source": [
    "Program to convert two list into dictioniory done for both text as well as numbers"
   ]
  },
  {
   "cell_type": "code",
   "execution_count": null,
   "metadata": {},
   "outputs": [],
   "source": []
  }
 ],
 "metadata": {
  "kernelspec": {
   "display_name": "Python 3",
   "language": "python",
   "name": "python3"
  },
  "language_info": {
   "codemirror_mode": {
    "name": "ipython",
    "version": 3
   },
   "file_extension": ".py",
   "mimetype": "text/x-python",
   "name": "python",
   "nbconvert_exporter": "python",
   "pygments_lexer": "ipython3",
   "version": "3.7.6"
  }
 },
 "nbformat": 4,
 "nbformat_minor": 4
}
